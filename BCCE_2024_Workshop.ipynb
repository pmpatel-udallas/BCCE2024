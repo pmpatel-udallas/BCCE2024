{
  "nbformat": 4,
  "nbformat_minor": 0,
  "metadata": {
    "colab": {
      "provenance": [],
      "collapsed_sections": [
        "M0sJbPdg5gPb",
        "_shwOmkOr1pP"
      ],
      "mount_file_id": "1rK6py3OOKR1oCxZvu8L8vMAMxvLo8q5s",
      "authorship_tag": "ABX9TyOLyHw14fJ7D/fIlfIaB49g",
      "include_colab_link": true
    },
    "kernelspec": {
      "name": "python3",
      "display_name": "Python 3"
    },
    "language_info": {
      "name": "python"
    }
  },
  "cells": [
    {
      "cell_type": "markdown",
      "metadata": {
        "id": "view-in-github",
        "colab_type": "text"
      },
      "source": [
        "<a href=\"https://colab.research.google.com/github/pmpatel-udallas/BCCE2024/blob/main/BCCE_2024_Workshop.ipynb\" target=\"_parent\"><img src=\"https://colab.research.google.com/assets/colab-badge.svg\" alt=\"Open In Colab\"/></a>"
      ]
    },
    {
      "cell_type": "markdown",
      "source": [
        "# Transitioning from Excel to Python for Chemistry Lab Data Analysis\n",
        "\n",
        "\n",
        "Coding is one of the most useful and transferable skills in the modern age. This workshop assumes no previous knowledge of Python or computer science. The goal is not to teach you everything about Python, but to give you a gentle introduction through applied learning and practical problem solving so you will be equipped in case you wish to further explore this area.\n",
        "\n",
        "Just like in experimental labs, it is not always practical to try to understand every detail in full. For example, we consider only the basic fundamentals behind the engineering of the lab instruments like the GC-MS or UV-vis. It is not the best use of our time to fully delve into the materials involved in the construction or the software engineering. As chemists, we are interested in the application and the broad scientific implications.\n",
        "\n",
        "Likewise, we will try to understand the big picture in our coding labs. Don't get too caught up with how every single line or package works! Instead, focus on the concepts and implications for your area of chemistry."
      ],
      "metadata": {
        "id": "jF3A_EQ812jz"
      }
    },
    {
      "cell_type": "markdown",
      "source": [
        "## Getting Started"
      ],
      "metadata": {
        "id": "KY5x0QI27nou"
      }
    },
    {
      "cell_type": "markdown",
      "source": [
        "### Import Packages"
      ],
      "metadata": {
        "id": "L8fpMg5iDIyK"
      }
    },
    {
      "cell_type": "markdown",
      "source": [
        "\n",
        "Programming etiquette involves importing packages you need at the top of a respective script/notebook.\n",
        "\n",
        "For most routine data analysis tasks in a chemistry lab, you will need four libraries:\n",
        "\n",
        "1. numpy (numerical analysis)\n",
        "2. scipy (scientific numerical analysis)\n",
        "3. matplotlib (plotting)\n",
        "4. pandas (getting data into Python)\n",
        "\n",
        "These packages are so commonly used that abbreviations are used throughout the community (Stack Overflow)\n",
        "\n",
        "`import numpy as np`\n",
        "\n",
        "`import scipy`\n",
        "\n",
        "`import matplotlib as mpl`\n",
        "\n",
        "`import matplotlib.pyplot as plt`\n",
        "\n",
        "`import pandas as pd`\n",
        "\n",
        "> Note: scipy can be abbreviated as sp\n",
        "\n"
      ],
      "metadata": {
        "id": "R4OHml6gscvN"
      }
    },
    {
      "cell_type": "code",
      "execution_count": null,
      "metadata": {
        "id": "55DTKA3kzg7w"
      },
      "outputs": [],
      "source": [
        "# Pandas dataframe library\n",
        "import pandas as pd\n",
        "\n",
        "# Import standard packages for numerical operations\n",
        "import numpy as np\n",
        "\n",
        "# Import plotting packages\n",
        "import matplotlib.pyplot as plt\n",
        "\n",
        "# If you want to change the font size of all plots to 16\n",
        "#import matplotlib as mpl\n",
        "#mpl.rcParams.update({'font.size': 16}) # Change the default font size to 16 pt.\n",
        "\n",
        "# Import standard package for linear regression (generates uncertanties along with results)\n",
        "import scipy\n",
        "from scipy import stats\n",
        "\n",
        "# Other scipy packages can be imported for things like derivation and integration.\n",
        "\n",
        "#from scipy.misc import derivative\n",
        "#from scipy.integrate import quad\n"
      ]
    },
    {
      "cell_type": "markdown",
      "source": [
        "### Text blocks"
      ],
      "metadata": {
        "id": "Kgf07YEGDLoQ"
      }
    },
    {
      "cell_type": "markdown",
      "source": [
        "\n",
        "\n",
        "Text blocks in Colab and Jupyter notebook enviroments use Markdown language for text. Double click on this block to edit the corresponding text. Feel free to look through other text blocks in this notebook.\n",
        "\n",
        "Here are some options within a text block.\n",
        "\n",
        "Bold: **bold text**\n",
        "\n",
        "Italics: *italicized text*\n",
        "\n",
        "```\n",
        "# This is formatted as code\n",
        "```\n",
        "[hyperlink to Google](https://www.google.com)\n",
        "\n",
        "\n",
        "*   Unnumbered item\n",
        "*   List item\n",
        "\n",
        "1.   List item\n",
        "\n",
        "> (Blockquotes) If you are familiar with $\\LaTeX$, then you can use that syntax for formatting math equations and greek letters in text blocks and in plots.\n",
        "\n",
        "$$\n",
        "\\hat{H}\\Psi=E\\Psi\n",
        "$$\n",
        "\n",
        "$$\\Delta G = \\Delta H - T\\Delta S$$\n",
        "\n",
        "Place an equation in-text:\n",
        "$\\Delta G = \\Delta H - T\\Delta S$\n",
        "\n",
        "\n",
        "\n",
        "\n",
        "\n"
      ],
      "metadata": {
        "id": "Nd8BuOnNBdnv"
      }
    },
    {
      "cell_type": "markdown",
      "source": [
        "# Part 1: How to import and plot data from Excel\n",
        "\n",
        "Let's get familiar with the basics of plotting and importing data from Excel to Python"
      ],
      "metadata": {
        "id": "eji3bpe12AOQ"
      }
    },
    {
      "cell_type": "markdown",
      "source": [
        "## 1.1 How to import data\n"
      ],
      "metadata": {
        "id": "c4x5yvuj0ARi"
      }
    },
    {
      "cell_type": "markdown",
      "source": [
        "\n",
        "A data scientist named Wes McKinney created the pandas library which provides a wealth of additional tools for working with data, and possibly the most endearing feature, the ability to call data based on labels.\n",
        "    \n",
        "By popular convention, pandas is imported as `import pandas as pd`\n",
        "\n",
        "> Note that when importing data in Google Colab, you can either link your Google Drive by mounting their Google Drive by doing the following\n",
        "```\n",
        "from google.colab import drive\n",
        "drive.mount('/content/drive')\n",
        "```\n",
        "\n",
        " and then providing the full file path or uploading the data to the space with the folder icon (fifth icon on left sidebar).\n",
        "\n",
        "\n",
        "### Reading/Writing Data"
      ],
      "metadata": {
        "id": "dwIindzGofNh"
      }
    },
    {
      "cell_type": "markdown",
      "source": [
        "Most data you will find yourself working with will be best placed in a two-dimensional pandas object called a *DataFrame* which is always written with two capital letters. The columns can be accessed by column names and rows can be accesses by indices. This will essentially function as the Python version of an Excel spreadsheet.\n",
        "\n",
        "Similar to NumPy, pandas contains multiple, convenient functions for reading/writing data directly to and from its own object types, and each function is suited to a specific file format. This includes CSV, HTML, JSON, SQL, Excel, and HDF5 files [among others](https://pandas.pydata.org/pandas-docs/stable/user_guide/io.html).\n",
        "\n",
        "**Table 1.** Import/Export Functions in Pandas\n",
        "\n",
        "| Function | Description |\n",
        "|:-------: | :---------  |\n",
        "|`read_csv()` and `to_csv()` | Imports/Exports data from/to a CSV file |\n",
        "|`read_table()` and `to_table()` | General-purpose importer/exporter |\n",
        "|`read_hdf5()` and `to_hdf5()` | Imports/Exports data from/to an HDF5 file |\n",
        "|`read_clipboard()` and `to_clipboard()` | Transfers data to/from the clipboard\\* to a Series or DataFrame |\n",
        "|`read_excel()` and `to_excel()` | Reads/writes an Excel file|"
      ],
      "metadata": {
        "id": "4txcM72rE7So"
      }
    },
    {
      "cell_type": "code",
      "source": [
        "# Using git commands to import sample data for this workshop\n",
        "!git clone https://github.com/pmpatel-udallas/BCCE2024.git\n",
        "\n",
        "# Example of reading a csv file\n",
        "pd.read_csv('BCCE2024/Data/MonteCarlo.csv')"
      ],
      "metadata": {
        "id": "UPD82AXMz2NA"
      },
      "execution_count": null,
      "outputs": []
    },
    {
      "cell_type": "code",
      "source": [
        "# Example of reading a csv file\n",
        "data1=pd.read_csv('BCCE2024/Data/MonteCarlo.csv',index_col='sample')\n",
        "data1"
      ],
      "metadata": {
        "id": "hNSwkBp4dsu0"
      },
      "execution_count": null,
      "outputs": []
    },
    {
      "cell_type": "code",
      "source": [
        "# Perform mathematical operations on a row and update the row\n",
        "# Data analysis in Python (rather than Excel)\n",
        "\n",
        "# Update the current values in the rvalue column with the square (r^2)\n",
        "data1.rvalue=data1.rvalue**2\n",
        "\n",
        "#--------------------------------------------------------\n",
        "# Change the slope to reciprocal slope (You code this).\n",
        "# Don't worry about updating the column header\n",
        "\n",
        "\n",
        "#--------------------------------------------------------\n",
        "\n",
        "# Display the updated data\n",
        "data1"
      ],
      "metadata": {
        "id": "ktKUSVPmeE4J"
      },
      "execution_count": null,
      "outputs": []
    },
    {
      "cell_type": "markdown",
      "source": [
        "\n",
        "**Table 2** More `pd.read_csv()` or `pd.read_excel()` Arguments\n",
        "\n",
        "| Argument | Description |\n",
        "|:--------:| :-------    |\n",
        "|`delimiter`| Data separator; default is tab|\n",
        "|`sep` | Data separator; default is tab|\n",
        "|`skiprows` | Number of rows in file to skip before reading data|\n",
        "|`skipfooter` | Number of rows at the bottom of the file to skip|\n",
        "|`skip_blank_lines`| If `True`, skips blank lines in file; default is `False`|\n",
        "|`header` | Row number to use for a data header; also accepts None if no header is provided in the file|\n",
        "|`delim_whitespace` | Boolean argument indicating that data is separated by white space; default is `False`|\n",
        "|`skipinitialspace` | If `True`, skips white space after delimiter|\n",
        "|`index_col` | Column(s) to use as the row labels of the DataFrame |\n"
      ],
      "metadata": {
        "id": "Ia9Dyvh1mmII"
      }
    },
    {
      "cell_type": "code",
      "source": [
        "# Example of reading an Excel sheet\n",
        "data2=pd.read_excel('BCCE2024/Data/Gases.xlsx',sheet_name='Pressure')\n",
        "data2"
      ],
      "metadata": {
        "id": "hwxLuH0W1JMi"
      },
      "execution_count": null,
      "outputs": []
    },
    {
      "cell_type": "markdown",
      "source": [
        "**Table 3.** Summary of Pandas Indexing\n",
        "\n",
        "| Index Method | Description |\n",
        "|:-----------: | :---------  |\n",
        "|`df[column]` | Index DataFrame with column name|\n",
        "|`df.loc[row]` | Index DataFrame with row name|\n",
        "|`df.loc[row, column]` | Index DataFrame with row and column names|\n",
        "|`df.iloc[row, column]` | Index DataFrame with row and column default numerical index values|"
      ],
      "metadata": {
        "id": "X_6zVYO8lrvJ"
      }
    },
    {
      "cell_type": "code",
      "source": [
        "# Navigate the columns\n",
        "data1['pressure (kPa)']"
      ],
      "metadata": {
        "id": "boZkcSOJE-Nb"
      },
      "execution_count": null,
      "outputs": []
    },
    {
      "cell_type": "code",
      "source": [
        "# Navigate the rows\n",
        "data2.loc[100]"
      ],
      "metadata": {
        "id": "bcumTNkXex-R"
      },
      "execution_count": null,
      "outputs": []
    },
    {
      "cell_type": "code",
      "source": [
        "# Navigate the rows and columns\n",
        "data2.loc[100,'pressure (kPa)']"
      ],
      "metadata": {
        "id": "InsG8yfMe7IF"
      },
      "execution_count": null,
      "outputs": []
    },
    {
      "cell_type": "markdown",
      "source": [
        "## 1.2 How to plot data"
      ],
      "metadata": {
        "id": "xQAd-XiN0Gn3"
      }
    },
    {
      "cell_type": "markdown",
      "source": [
        "Simple plots are easy to create and customize."
      ],
      "metadata": {
        "id": "Ors62PLcqHLR"
      }
    },
    {
      "cell_type": "code",
      "source": [
        "# import the required module\n",
        "import matplotlib.pyplot as plt\n",
        "\n",
        "# x axis values\n",
        "x = [1,2,3,4]\n",
        "\n",
        "# corresponding y axis values\n",
        "y = [200,400,600,800]\n",
        "\n",
        "# plotting the points\n",
        "plt.plot(x, y)\n",
        "\n",
        "# naming the x axis\n",
        "plt.xlabel('x - axis (y units)')\n",
        "\n",
        "# naming the y axis\n",
        "plt.ylabel('y - axis (x units)')\n",
        "\n",
        "# giving a title to my graph\n",
        "plt.title('My first graph!')\n",
        "\n",
        "# function to show the plot\n",
        "plt.show()"
      ],
      "metadata": {
        "id": "8UYr2wNgz40m"
      },
      "execution_count": null,
      "outputs": []
    },
    {
      "cell_type": "markdown",
      "source": [
        "There's plenty of other handy features for plotting, like setting the figure size, font size, x and y axis limits, and much more. Go ahead and take a look at the additional modifications to the graph below. See what changing each of the additions does.\n",
        "\n",
        "There's a lot of flexibility in the plt.plot function for a wide variety of possible visualization options. For a full description of the options available, refer to the [plt.plot documentation](https://matplotlib.org/stable/api/_as_gen/matplotlib.pyplot.plot.html).\n",
        "\n",
        "Fix each one of the changes until the graph looks acceptable again, that is the data should be visible as should the title."
      ],
      "metadata": {
        "id": "7e9UchRgqPrH"
      }
    },
    {
      "cell_type": "code",
      "source": [
        "# import the required module\n",
        "import matplotlib.pyplot as plt\n",
        "\n",
        "# x axis values\n",
        "x = [1,2,3,4]\n",
        "# corresponding y axis values\n",
        "y = [200,400,600,800]\n",
        "\n",
        "\n",
        "#this sets the figure size\n",
        "plt.figure(figsize=(7,7))\n",
        "\n",
        "#this sets the y and y limits of the figure... but something isn't right!\n",
        "plt.xlim(0, 1)\n",
        "plt.ylim(100, 1600)\n",
        "\n",
        "# plotting the points, note how you can change the marker and color\n",
        "# You can also use hex codes like '#FFFFFF' in this section.\n",
        "# Make the plot to have your school colors\n",
        "plt.plot(x, y, '-o', color='green',label='Whatever')\n",
        "\n",
        "#plot titles\n",
        "plt.xlabel('x - axis (y units)')\n",
        "plt.ylabel('y - axis (x units)')\n",
        "plt.title('My first graph!', fontsize=2) #notice the fontsize\n",
        "\n",
        "#Add a legend\n",
        "plt.legend(loc='center')\n",
        "plt.show()"
      ],
      "metadata": {
        "id": "t1aAgHQoqSHu"
      },
      "execution_count": null,
      "outputs": []
    },
    {
      "cell_type": "markdown",
      "source": [
        "### Plotting Options Reference Tables"
      ],
      "metadata": {
        "id": "-IvMcvFlrEV5"
      }
    },
    {
      "cell_type": "markdown",
      "source": [
        "\n",
        "\n",
        "**Table 4.** Common Matplotlib Marker Styles\n",
        "\n",
        "| Argument | Description |\n",
        "|:-------: | :--------:  |\n",
        "| 'o'      |  circle |\n",
        "| '*'    | star |\n",
        "| 'p'    | pentagon |\n",
        "| '^'    | triangle |\n",
        "| 's'    | square   |\n",
        "\n",
        "\n",
        "**Table 5.** Common Matplotlib Line Styles\n",
        "\n",
        "| Argument | Description |\n",
        "|:-------: | :---------: |\n",
        "|  '-'   | solid |\n",
        "| '--'   | dashed |\n",
        "| '-.'   | dash-dot |\n",
        "| ':'    | dotted |\n",
        "\n",
        "**Table 6.** Common Matplotlib Colors\n",
        "\n",
        "| Argument | Description |\n",
        "|:------: | :--------: |\n",
        "| 'b' | blue |\n",
        "| 'r' | red  |\n",
        "| 'k' | black (key) |\n",
        "| 'g' | green |\n",
        "| 'm' | magenta |\n",
        "| 'c' | cyan |\n",
        "| 'y' | yellow |\n",
        "\n",
        "\n",
        "**Table 7.** A Few Common plot Keyword Arguments\n",
        "\n",
        "| Argument | Description |\n",
        "|:------:  | :--------:  |\n",
        "|`linestyle` or `ls` | line style |\n",
        "| `marker` | marker style |\n",
        "|`linewidth` or `lw` | line width |\n",
        "|`color` or `c` | line color |\n",
        "|`markeredgecolor` or `mec` | marker edge color |\n",
        "|`markerfacecolor` or `mfc` | marker color |\n",
        "|`markersize` or `ms` | marker size |\n",
        "\n",
        "**Table 8.** Legend Location\n",
        "\n",
        "| Location String | Location Code |\n",
        "|:---------------:| :-----------: |\n",
        "|'best' (Axes only)|0 |\n",
        "|'upper right'| 1|\n",
        "|'upper left'|2|\n",
        "|'lower left'|3|\n",
        "|'lower right'|4|\n",
        "|'right'|5|\n",
        "|'center left'|6|\n",
        "|'center right'|7|\n",
        "|'lower center'|8|\n",
        "|'upper center'|9|\n",
        "|'center'|10|\n"
      ],
      "metadata": {
        "id": "iL-4TBxfrPfW"
      }
    },
    {
      "cell_type": "markdown",
      "source": [
        "### Compute and plot a best fit line\n",
        "\n",
        "Follow the example below to see how to compute a trend line."
      ],
      "metadata": {
        "id": "432ILNUYtOnq"
      }
    },
    {
      "cell_type": "code",
      "source": [
        "# x, y axis values\n",
        "x = [1,2,3,4,6]\n",
        "y = [200,400,600,800,1000]\n",
        "\n",
        "# plotting the points\n",
        "plt.plot(x, y, 'o', color='C0')\n",
        "\n",
        "# make the trend line.\n",
        "best_fit = scipy.stats.linregress(x, y)\n",
        "m = best_fit.slope\n",
        "b = best_fit.intercept\n",
        "me = best_fit.stderr\n",
        "mb = best_fit.intercept_stderr\n",
        "r2 = best_fit.rvalue**2\n",
        "\n",
        "#plot the best fit line\n",
        "X = np.linspace(min(x), max(x), 100)\n",
        "Y = m*X + b\n",
        "plt.plot(X, Y,'C0--',label='$\\Delta$H')\n",
        "\n",
        "#plot titles\n",
        "plt.xlabel('x (units)')\n",
        "plt.ylabel('$\\Delta$H (units)')\n",
        "plt.title('Linear Fit!', fontsize=12)\n",
        "\n",
        "# Add text of the best fit equation and r^2 value\n",
        "# plt.text(x,y,'text-to-add')\n",
        "# 'text-to-add' must be a string (uses quotes and converts numbers to string with str type/function)\n",
        "\n",
        "# Add text of the best fit equation\n",
        "plt.text(6,250,'('+str(m.round(2))+'$\\pm$'+str(me.round(1))+')'+'x +'\\\n",
        "         +'('+str(b.round(2))+'$\\pm$'+str(mb.round(1))+')',horizontalalignment='right')\n",
        "\n",
        "# Add text of the r^2 value\n",
        "plt.text(6,200,'r$^2$ = '+str(r2.round(3)),horizontalalignment='right')\n",
        "\n",
        "# Add a legend\n",
        "plt.legend()\n",
        "\n",
        "plt.show()"
      ],
      "metadata": {
        "id": "4w4br4uitSsV"
      },
      "execution_count": null,
      "outputs": []
    },
    {
      "cell_type": "markdown",
      "source": [
        "#### Compute the best fit line"
      ],
      "metadata": {
        "id": "-nvWJ-i0nZlP"
      }
    },
    {
      "cell_type": "code",
      "source": [
        "# x axis values\n",
        "x = [1,2,3,4]\n",
        "# corresponding y axis values\n",
        "y = [200,400,600,800]\n",
        "\n",
        "\n",
        "#this sets the figure size\n",
        "plt.figure(figsize=(7,7))\n",
        "\n",
        "#this sets the y and y limits of the figure... but something isn't right!\n",
        "plt.xlim(0, 1)\n",
        "plt.ylim(100, 1600)\n",
        "\n",
        "#--------------------------------\n",
        "#Code for the best fit line\n",
        "\n",
        "\n",
        "\n",
        "\n",
        "\n",
        "\n",
        "#---------------------------------\n",
        "\n",
        "\n",
        "# plotting the points, note how you can change the marker and color\n",
        "# You can also use hex codes like '#FFFFFF' in this section.\n",
        "# Make the plot to have your school colors\n",
        "plt.plot(x, y, '-o', color='green',label='Whatever')\n",
        "\n",
        "#plot titles\n",
        "plt.xlabel('x - axis (y units)')\n",
        "plt.ylabel('y - axis (x units)')\n",
        "plt.title('My first graph!', fontsize=2) #notice the fontsize\n",
        "\n",
        "#Add a legend\n",
        "plt.legend(loc='center')\n",
        "plt.show()"
      ],
      "metadata": {
        "id": "Vhl0J9CSnT4d"
      },
      "execution_count": null,
      "outputs": []
    },
    {
      "cell_type": "markdown",
      "source": [
        "## 1.3 How would you visualize the data in the following spreadsheet?"
      ],
      "metadata": {
        "id": "Tc1q-FKB487y"
      }
    },
    {
      "cell_type": "markdown",
      "source": [
        "### Example: Pressure vs. Volume for air\n",
        "\n",
        "Pressure data in kPa at various volumes in mL."
      ],
      "metadata": {
        "id": "x2XQ0rsQoqtu"
      }
    },
    {
      "cell_type": "code",
      "source": [
        "gases=pd.read_excel('BCCE2024/Data/Gases.xlsx',sheet_name='P vs V')\n",
        "gases"
      ],
      "metadata": {
        "id": "M4EibiVB0Y0d"
      },
      "execution_count": null,
      "outputs": []
    },
    {
      "cell_type": "code",
      "source": [
        "# Generate plot with the gases dataframe\n",
        "\n",
        "\n",
        "\n",
        "\n",
        "\n"
      ],
      "metadata": {
        "id": "kbXSUC8PnqFY"
      },
      "execution_count": null,
      "outputs": []
    },
    {
      "cell_type": "markdown",
      "source": [
        "### Example: Penny Statistics\n",
        "\n",
        "In lab, you and your lab mates measured the masses of 10000 pennies. Below are the results. Find a way to visualize the data.\n",
        "\n",
        "**Is the distribution of masses described by a Gaussian function?**\n",
        "\n",
        "**Is the mass of a penny consistent from year to year?**"
      ],
      "metadata": {
        "id": "SMmEs6IRn_SF"
      }
    },
    {
      "cell_type": "code",
      "source": [
        "pennies= #Your code here for importing the Excel data\n",
        "pennies"
      ],
      "metadata": {
        "id": "sUS3ovWJ8ArE"
      },
      "execution_count": null,
      "outputs": []
    },
    {
      "cell_type": "code",
      "source": [
        "# Generate plots with the pennies dataset\n",
        "\n",
        "\n",
        "\n",
        "\n",
        "\n"
      ],
      "metadata": {
        "id": "OOuLkI-mn1Yt"
      },
      "execution_count": null,
      "outputs": []
    },
    {
      "cell_type": "markdown",
      "source": [
        "### What are some other types of plots you can make with pandas DataFrames?\n",
        "\n",
        "[Plot Types in Matplotlib](https://matplotlib.org/stable/plot_types/index.html)\n"
      ],
      "metadata": {
        "id": "M0sJbPdg5gPb"
      }
    },
    {
      "cell_type": "code",
      "source": [
        "# Use subplots to include more than 1 plot in a figure\n",
        "fig, (ax,ax2) = plt.subplots(nrows=2, ncols=1, figsize=(6, 8))\n",
        "\n",
        "#Error Bar Plots\n",
        "# make data:\n",
        "x = np.array([2, 4, 6])\n",
        "y = np.array([3.6, 5, 4.2])\n",
        "yerr = np.array([0.9, 1.2, 0.5])\n",
        "\n",
        "best_fit = scipy.stats.linregress(x, y)\n",
        "m = best_fit.slope\n",
        "b = best_fit.intercept\n",
        "\n",
        "ax.errorbar(x, y, yerr, fmt='o', linewidth=2, capsize=6)\n",
        "ax.plot(x,m*x+b)\n",
        "xmin, xmax = ax.get_xlim()\n",
        "ymin, ymax = ax.get_ylim()\n",
        "\n",
        "#Create text in the top left corner of the plot\n",
        "#Adjust these values as needed for aesthetics\n",
        "ax.text(xmin,0.97*ymax,'(a)')\n",
        "\n",
        "#Histogram\n",
        "# Create a pandas dataframe of random values\n",
        "df = pd.DataFrame(np.random.randn(1000), columns=['values'])\n",
        "\n",
        "# Plot a histogram of the values in the dataframe\n",
        "\n",
        "ax2.hist(df['values'], bins=10)\n",
        "ax2.set_xlabel('Values') #Notice the different syntax for axes labels\n",
        "ax2.set_ylabel('Frequency')\n",
        "\n",
        "xmin2, xmax2 = ax2.get_xlim()\n",
        "ymin2, ymax2 = ax2.get_ylim()\n",
        "\n",
        "#Create text in the top left corner of the plot\n",
        "#Adjust these values as needed for aesthetics\n",
        "ax2.text(xmin2,0.95*ymax2,'(b)')\n",
        "\n",
        "plt.show()\n",
        "fig.savefig('test.png',dpi=300,bbox_inches='tight')"
      ],
      "metadata": {
        "id": "3U8-cYOp0u3V"
      },
      "execution_count": null,
      "outputs": []
    },
    {
      "cell_type": "markdown",
      "source": [
        "# Part 2: Import your own Excel spreadsheet and create a plot of your data\n",
        "\n",
        "Upload your spreadsheet and plot your data as you would in Excel"
      ],
      "metadata": {
        "id": "87YmXDDc0vIR"
      }
    },
    {
      "cell_type": "code",
      "source": [],
      "metadata": {
        "id": "1W4YN23TDYaX"
      },
      "execution_count": null,
      "outputs": []
    },
    {
      "cell_type": "markdown",
      "source": [
        "# References\n"
      ],
      "metadata": {
        "id": "_shwOmkOr1pP"
      }
    },
    {
      "cell_type": "markdown",
      "source": [
        "\n",
        "This notebook includes material from the following sources:\n",
        "\n",
        "A Creative Commons Textbook for Teaching Scientific Computing to Chemistry Students with Python and Jupyter Notebooks *J. Chem. Educ.* **2021,** 98, 489-494 [DOI: 10.1021/acs.jchemed.0c01071](https://doi.org/10.1021/acs.jchemed.0c01071)\n",
        "\n",
        "Scientific Computing for Chemists: An Undergraduate Course in Simulations, Data Processing, and Visualization *J. Chem. Educ.* **2017,** 94, 592-597 [DOI: 10.1021/acs.jchemed.7b00078](http://dx.doi.org/10.1021/acs.jchemed.7b00078)\n",
        "\n",
        "Introduction to Stochastic Simulations for Chemical and Physical Processes: Principles and Applications *J. Chem. Educ.* **2017,** 94, 1904-1910 [DOI: 10.1021/acs.jchemed.7b00395](http://dx.doi.org/10.1021/acs.jchemed.7b00395)"
      ],
      "metadata": {
        "id": "UV_LDUQVr5kp"
      }
    }
  ]
}